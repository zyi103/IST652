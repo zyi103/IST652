{
 "cells": [
  {
   "cell_type": "markdown",
   "metadata": {},
   "source": [
    "# IST 652 Lab #3\n",
    "### Instructions\n",
    "- Complete all 5 questions in this assignment.\n",
    "- You may work with others, <b> but the work you submit must be your own </b>. You can differentiate your work by adding comments or changing the values you use to test your code. However, submitting some else's work as your own is an academic integrity violation and will be raised to academic affairs.\n",
    "- It is always better to attempt a problem as partial credit may be granted.\n",
    "\n",
    "\n",
    "### Submission Guide:\n",
    "- Submit your answers on BlackBoard by Tuesday 09/22 at 12:00 noon.\n",
    "- The file must be either a .py or .ipynb file type.\n",
    "- <i><span style=\"color:red\">The name of the file you submit should be <i><b> ist652_lab3_lastname.py (.ipynb) </i></b>.</span>\n",
    "\n",
    "\n",
    "\n",
    "### Grading [ 5 total points ]\n",
    "For Each Questions (1-5), the following credit will be awarded:\n",
    "- 0.85 for printing the correct answer to the console.\n",
    "- 0.10 for approaching the problem efficiently.\n",
    "- 0.05 for properly documenting and commenting your code."
   ]
  },
  {
   "cell_type": "markdown",
   "metadata": {},
   "source": [
    "---\n",
    "### Questions"
   ]
  },
  {
   "cell_type": "markdown",
   "metadata": {},
   "source": [
    "### For Questions 1 - 4, consider the following two dictionaries:\n"
   ]
  },
  {
   "cell_type": "code",
   "execution_count": 2,
   "metadata": {},
   "outputs": [],
   "source": [
    "stock = {\n",
    "    \"banana\": 6,\n",
    "    \"apple\": 0,\n",
    "    \"orange\": 32,\n",
    "    \"pear\": 15,\n",
    "    \"avacado\": 3,\n",
    "    \"mango\": 5,\n",
    "}\n",
    "prices = {\n",
    "    \"banana\": 4,\n",
    "    \"apple\": 2,\n",
    "    \"orange\": 1.5,\n",
    "    \"pear\": 3,\n",
    "    \"avacado\": 10,\n",
    "    \"mango\": 1,\n",
    "}"
   ]
  },
  {
   "cell_type": "markdown",
   "metadata": {},
   "source": [
    "#### ( 1a ) Show the expression that fetches the value of the stock dictionary at the key <u><i>orange</u></i>.\n",
    "\n",
    "#### ( 1b ) Show a statement that adds an item to the stock dictionary called \"cherry\" with some integer value AND that adds <i><u>cherry</u></i> to the prices dictionary with a numeric value. \n",
    "- <i>Or pick your own fruit name.</i>\n",
    "\n",
    "\n",
    "##### [1 point]"
   ]
  },
  {
   "cell_type": "code",
   "execution_count": 19,
   "metadata": {},
   "outputs": [
    {
     "name": "stdout",
     "output_type": "stream",
     "text": [
      "32\n"
     ]
    }
   ],
   "source": [
    "# Enter your code here, printing relevant answers to console:\n",
    "print(stock[\"orange\"]) #1a\n",
    "stock[\"cherry\"] = 2\n",
    "prices[\"cherry\"] = 2"
   ]
  },
  {
   "cell_type": "markdown",
   "metadata": {},
   "source": [
    "---\n",
    "#### ( 2 ) Write the code for a loop that iterates over the stock dictionary and prints each key and value. i.e.:\n",
    "    - print(key, value)\n",
    "\n",
    "##### [1 point]"
   ]
  },
  {
   "cell_type": "code",
   "execution_count": 13,
   "metadata": {},
   "outputs": [
    {
     "name": "stdout",
     "output_type": "stream",
     "text": [
      "banana 6\n",
      "apple 0\n",
      "orange 32\n",
      "pear 15\n",
      "avacado 3\n",
      "mango 5\n",
      "cherry 2\n"
     ]
    },
    {
     "data": {
      "text/plain": [
       "{None}"
      ]
     },
     "execution_count": 13,
     "metadata": {},
     "output_type": "execute_result"
    }
   ],
   "source": [
    "# Enter your code here, printing relevant answers to console:\n",
    "{print(key, value) for key, value in stock.items()} #dict comprehension"
   ]
  },
  {
   "cell_type": "markdown",
   "metadata": {},
   "source": [
    " ----"
   ]
  },
  {
   "cell_type": "markdown",
   "metadata": {},
   "source": [
    "#### (3) Write the code that will sum the total number in stock for all the items in the groceries list and prints this value to console. Please make sure to use the same dictionary created in Question 1.\n",
    "\n",
    "\n",
    "##### [1 point]"
   ]
  },
  {
   "cell_type": "code",
   "execution_count": 17,
   "metadata": {},
   "outputs": [
    {
     "name": "stdout",
     "output_type": "stream",
     "text": [
      "63\n"
     ]
    }
   ],
   "source": [
    "# Enter your code here, printing relevant answers to console:\n",
    "print(sum(stock.values()))"
   ]
  },
  {
   "cell_type": "markdown",
   "metadata": {},
   "source": [
    "#### ( 4 ) Write the code that can print out the total value for each in-stock item, as well as the total value for the entire stock. \n",
    "#### This program can iterate over the stock dictionary and for each item, multiply the number of in stock items times the price of that item in the prices dictionary. \n",
    "- This must include the items for <i><u>cherry</i></u> (or your equivalent from [1b]).\n",
    "\n",
    "\n",
    "##### [1 point]"
   ]
  },
  {
   "cell_type": "code",
   "execution_count": 28,
   "metadata": {},
   "outputs": [
    {
     "name": "stdout",
     "output_type": "stream",
     "text": [
      "banana 24\n",
      "apple 0\n",
      "orange 48.0\n",
      "pear 45\n",
      "avacado 30\n",
      "mango 5\n",
      "cherry 4\n"
     ]
    },
    {
     "data": {
      "text/plain": [
       "{None}"
      ]
     },
     "execution_count": 28,
     "metadata": {},
     "output_type": "execute_result"
    }
   ],
   "source": [
    "# Enter your code here, printing relevant answers to console:\n",
    "{print(k, prices[k] * stock[k]) for k in prices}\n",
    "# dict comprehension"
   ]
  },
  {
   "cell_type": "markdown",
   "metadata": {},
   "source": [
    "---"
   ]
  },
  {
   "cell_type": "markdown",
   "metadata": {},
   "source": [
    "---"
   ]
  },
  {
   "cell_type": "markdown",
   "metadata": {},
   "source": [
    "#### ( 5 ) Given the number guessing code below, add <i>try</i> and <i>except</i> clauses such that:\n",
    "- If the user enters a string, then the following message appears:\n",
    "    - <i>\"Sorry this is not a number. Try Again.\"</i>\n",
    "- Then the iteration jumps back to the beginning of the loop without having counted as a guess\n",
    "\n",
    "#### [2 points]"
   ]
  },
  {
   "cell_type": "code",
   "execution_count": 38,
   "metadata": {},
   "outputs": [
    {
     "name": "stdout",
     "output_type": "stream",
     "text": [
      "I am thinking of a number between 1 and 20.\n",
      "Take a guess.\n",
      "1\n",
      "Your guess is too low.\n",
      "Take a guess.\n",
      "1\n",
      "Your guess is too low.\n",
      "Take a guess.\n",
      "1\n",
      "Your guess is too low.\n",
      "Take a guess.\n",
      "1\n",
      "Your guess is too low.\n",
      "Take a guess.\n",
      "1\n",
      "Your guess is too low.\n",
      "Take a guess.\n",
      "a\n",
      "this is not a number\n",
      "Take a guess.\n",
      "s\n",
      "this is not a number\n",
      "Take a guess.\n",
      "d\n",
      "this is not a number\n",
      "Take a guess.\n",
      "1\n",
      "Your guess is too low.\n",
      "Nope. The number I was thinking of was 3\n"
     ]
    }
   ],
   "source": [
    "##### Enter your code here, printing relevant answers to console:\n",
    "\n",
    "import random\n",
    "guessesTaken = 0\n",
    "\n",
    "\n",
    "number = random.randint(1, 20)\n",
    "print('I am thinking of a number between 1 and 20.')\n",
    "\n",
    "while guessesTaken < 6:\n",
    "    print('Take a guess.') # There are four spaces in front of print.\n",
    "    try:\n",
    "        guess = int(input())        \n",
    "        guessesTaken = guessesTaken + 1\n",
    "    \n",
    "        if guess < number:\n",
    "            print('Your guess is too low.') # There are eight spaces in front of print.\n",
    "        if guess > number:\n",
    "            print('Your guess is too high.')\n",
    "        if guess == number:\n",
    "            break\n",
    "    \n",
    "    except ValueError:\n",
    "        print(\"this is not a number\")\n",
    "\n",
    "\n",
    "if guess == number:\n",
    "    guessesTaken = str(guessesTaken)\n",
    "    print('Good job - You guessed my number in ' + guessesTaken + ' guesses!')\n",
    "\n",
    "if guess != number:\n",
    "    number = str(number)\n",
    "    print('Nope. The number I was thinking of was ' + number)\n"
   ]
  },
  {
   "cell_type": "code",
   "execution_count": null,
   "metadata": {},
   "outputs": [],
   "source": []
  }
 ],
 "metadata": {
  "kernelspec": {
   "display_name": "Python 3",
   "language": "python",
   "name": "python3"
  },
  "language_info": {
   "codemirror_mode": {
    "name": "ipython",
    "version": 3
   },
   "file_extension": ".py",
   "mimetype": "text/x-python",
   "name": "python",
   "nbconvert_exporter": "python",
   "pygments_lexer": "ipython3",
   "version": "3.8.3"
  }
 },
 "nbformat": 4,
 "nbformat_minor": 2
}
